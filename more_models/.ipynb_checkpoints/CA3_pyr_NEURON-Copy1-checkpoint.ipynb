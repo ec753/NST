{
 "cells": [
  {
   "cell_type": "code",
   "execution_count": 1,
   "id": "according-gambling",
   "metadata": {},
   "outputs": [],
   "source": [
    "from neuron import h, gui\n",
    "import os"
   ]
  },
  {
   "cell_type": "code",
   "execution_count": 2,
   "id": "published-coast",
   "metadata": {},
   "outputs": [],
   "source": [
    "# compile\n",
    "_model_dir = \"./model_files/\"\n",
    "os.chdir(_model_dir)\n",
    "#!nrnivmodl ."
   ]
  },
  {
   "cell_type": "code",
   "execution_count": 3,
   "id": "overall-edwards",
   "metadata": {},
   "outputs": [
    {
     "name": "stdout",
     "output_type": "stream",
     "text": [
      "\t1 \n",
      "\t1 \n",
      "\t0 \n",
      "\t12345 \n",
      "\t2.0957645 \n",
      "\t10946353 \n",
      "\t0.066156161 \n",
      "\t1 \n",
      "\t1 \n",
      "\t0 \n",
      "\t0 \n"
     ]
    },
    {
     "name": "stderr",
     "output_type": "stream",
     "text": [
      "NEURON: hd is not a MECHANISM\n",
      " in develop.hoc near line 101\n",
      " \tinsert hd \n",
      "          ^\n",
      "        xopen(\"develop.hoc\")\n",
      "      execute1(\"{xopen(\"de...\")\n",
      "    load_file(\"develop.hoc\")\n",
      "  xopen(\"mosinit.hoc\")\n",
      "and others\n"
     ]
    },
    {
     "data": {
      "text/plain": [
       "1.0"
      ]
     },
     "execution_count": 3,
     "metadata": {},
     "output_type": "execute_result"
    }
   ],
   "source": [
    "\n",
    "h.load_file(\"mosinit.hoc\")"
   ]
  },
  {
   "cell_type": "code",
   "execution_count": null,
   "id": "located-patient",
   "metadata": {},
   "outputs": [],
   "source": [
    "# records all membrane voltages for all models ever?\n",
    "volts = [h.Vector().record(seg._ref_v) for sec in h.allsec() for seg in sec]"
   ]
  },
  {
   "cell_type": "code",
   "execution_count": 4,
   "id": "chicken-pencil",
   "metadata": {},
   "outputs": [
    {
     "name": "stdout",
     "output_type": "stream",
     "text": [
      "soma[0] dict_keys(['pas'])\n",
      "axon[0] dict_keys(['pas'])\n",
      "dendrite[0] dict_keys(['pas'])\n",
      "dendrite[1] dict_keys(['pas'])\n",
      "dendrite[2] dict_keys(['pas'])\n",
      "dendrite[3] dict_keys(['pas'])\n",
      "dendrite[4] dict_keys(['pas'])\n",
      "dendrite[5] dict_keys(['pas'])\n",
      "dendrite[6] dict_keys(['pas'])\n",
      "dendrite[7] dict_keys(['pas'])\n",
      "dendrite[8] dict_keys(['pas'])\n",
      "dendrite[9] dict_keys(['pas'])\n",
      "dendrite[10] dict_keys(['pas'])\n",
      "dendrite[11] dict_keys(['pas'])\n",
      "dendrite[12] dict_keys(['pas'])\n",
      "dendrite[13] dict_keys(['pas'])\n",
      "dendrite[14] dict_keys(['pas'])\n",
      "dendrite[15] dict_keys(['pas'])\n",
      "dendrite[16] dict_keys(['pas'])\n",
      "dendrite[17] dict_keys(['pas'])\n",
      "dendrite[18] dict_keys(['pas'])\n",
      "dendrite[19] dict_keys(['pas'])\n",
      "dendrite[20] dict_keys(['pas'])\n",
      "dendrite[21] dict_keys(['pas'])\n",
      "dendrite[22] dict_keys(['pas'])\n",
      "dendrite[23] dict_keys(['pas'])\n",
      "dendrite[24] dict_keys(['pas'])\n",
      "dendrite[25] dict_keys(['pas'])\n",
      "dendrite[26] dict_keys(['pas'])\n",
      "dendrite[27] dict_keys(['pas'])\n",
      "dendrite[28] dict_keys(['pas'])\n",
      "dendrite[29] dict_keys(['pas'])\n",
      "dendrite[30] dict_keys(['pas'])\n",
      "dendrite[31] dict_keys(['pas'])\n",
      "dendrite[32] dict_keys(['pas'])\n",
      "dendrite[33] dict_keys(['pas'])\n",
      "dendrite[34] dict_keys(['pas'])\n",
      "dendrite[35] dict_keys(['pas'])\n",
      "dendrite[36] dict_keys(['pas'])\n",
      "dendrite[37] dict_keys(['pas'])\n",
      "dendrite[38] dict_keys(['pas'])\n",
      "dendrite[39] dict_keys(['pas'])\n",
      "dendrite[40] dict_keys(['pas'])\n",
      "dendrite[41] dict_keys(['pas'])\n",
      "dendrite[42] dict_keys(['pas'])\n",
      "dendrite[43] dict_keys(['pas'])\n",
      "dendrite[44] dict_keys(['pas'])\n",
      "dendrite[45] dict_keys(['pas'])\n",
      "dendrite[46] dict_keys(['pas'])\n",
      "dendrite[47] dict_keys(['pas'])\n",
      "dendrite[48] dict_keys(['pas'])\n",
      "dendrite[49] dict_keys(['pas'])\n",
      "dendrite[50] dict_keys(['pas'])\n",
      "dendrite[51] dict_keys(['pas'])\n",
      "apical_dendrite[0] dict_keys(['pas'])\n",
      "apical_dendrite[1] dict_keys(['pas'])\n",
      "apical_dendrite[2] dict_keys(['pas'])\n",
      "apical_dendrite[3] dict_keys(['pas'])\n",
      "apical_dendrite[4] dict_keys(['pas'])\n",
      "apical_dendrite[5] dict_keys(['pas'])\n",
      "apical_dendrite[6] dict_keys(['pas'])\n",
      "apical_dendrite[7] dict_keys(['pas'])\n",
      "apical_dendrite[8] dict_keys(['pas'])\n",
      "apical_dendrite[9] dict_keys(['pas'])\n",
      "apical_dendrite[10] dict_keys(['pas'])\n",
      "apical_dendrite[11] dict_keys(['pas'])\n",
      "apical_dendrite[12] dict_keys(['pas'])\n",
      "apical_dendrite[13] dict_keys(['pas'])\n",
      "apical_dendrite[14] dict_keys(['pas'])\n",
      "apical_dendrite[15] dict_keys(['pas'])\n",
      "apical_dendrite[16] dict_keys(['pas'])\n",
      "apical_dendrite[17] dict_keys(['pas'])\n",
      "apical_dendrite[18] dict_keys(['pas'])\n",
      "apical_dendrite[19] dict_keys(['pas'])\n",
      "apical_dendrite[20] dict_keys(['pas'])\n",
      "apical_dendrite[21] dict_keys(['pas'])\n",
      "apical_dendrite[22] dict_keys(['pas'])\n",
      "apical_dendrite[23] dict_keys(['pas'])\n",
      "apical_dendrite[24] dict_keys(['pas'])\n",
      "apical_dendrite[25] dict_keys(['pas'])\n",
      "apical_dendrite[26] dict_keys(['pas'])\n",
      "apical_dendrite[27] dict_keys(['pas'])\n",
      "apical_dendrite[28] dict_keys(['pas'])\n",
      "apical_dendrite[29] dict_keys(['pas'])\n",
      "apical_dendrite[30] dict_keys(['pas'])\n",
      "apical_dendrite[31] dict_keys(['pas'])\n",
      "apical_dendrite[32] dict_keys(['pas'])\n",
      "apical_dendrite[33] dict_keys(['pas'])\n",
      "apical_dendrite[34] dict_keys(['pas'])\n",
      "apical_dendrite[35] dict_keys(['pas'])\n",
      "apical_dendrite[36] dict_keys(['pas'])\n",
      "apical_dendrite[37] dict_keys(['pas'])\n",
      "apical_dendrite[38] dict_keys(['pas'])\n",
      "apical_dendrite[39] dict_keys(['pas'])\n",
      "apical_dendrite[40] dict_keys(['pas'])\n",
      "apical_dendrite[41] dict_keys(['pas'])\n",
      "apical_dendrite[42] dict_keys(['pas'])\n",
      "apical_dendrite[43] dict_keys(['pas'])\n",
      "apical_dendrite[44] dict_keys(['pas'])\n",
      "apical_dendrite[45] dict_keys(['pas'])\n",
      "apical_dendrite[46] dict_keys(['pas'])\n",
      "apical_dendrite[47] dict_keys(['pas'])\n",
      "apical_dendrite[48] dict_keys(['pas'])\n",
      "apical_dendrite[49] dict_keys(['pas'])\n",
      "apical_dendrite[50] dict_keys(['pas'])\n",
      "apical_dendrite[51] dict_keys(['pas'])\n",
      "apical_dendrite[52] dict_keys(['pas'])\n",
      "apical_dendrite[53] dict_keys(['pas'])\n",
      "apical_dendrite[54] dict_keys(['pas'])\n",
      "apical_dendrite[55] dict_keys(['pas'])\n",
      "apical_dendrite[56] dict_keys(['pas'])\n",
      "apical_dendrite[57] dict_keys(['pas'])\n",
      "apical_dendrite[58] dict_keys(['pas'])\n",
      "apical_dendrite[59] dict_keys(['pas'])\n",
      "apical_dendrite[60] dict_keys(['pas'])\n",
      "apical_dendrite[61] dict_keys(['pas'])\n",
      "apical_dendrite[62] dict_keys(['pas'])\n",
      "apical_dendrite[63] dict_keys(['pas'])\n",
      "apical_dendrite[64] dict_keys(['pas'])\n",
      "apical_dendrite[65] dict_keys(['pas'])\n",
      "apical_dendrite[66] dict_keys(['pas'])\n",
      "apical_dendrite[67] dict_keys(['pas'])\n",
      "apical_dendrite[68] dict_keys(['pas'])\n",
      "apical_dendrite[69] dict_keys(['pas'])\n",
      "apical_dendrite[70] dict_keys(['pas'])\n",
      "apical_dendrite[71] dict_keys(['pas'])\n",
      "apical_dendrite[72] dict_keys(['pas'])\n",
      "apical_dendrite[73] dict_keys(['pas'])\n",
      "apical_dendrite[74] dict_keys(['pas'])\n",
      "apical_dendrite[75] dict_keys(['pas'])\n",
      "apical_dendrite[76] dict_keys(['pas'])\n",
      "apical_dendrite[77] dict_keys(['pas'])\n",
      "apical_dendrite[78] dict_keys(['pas'])\n",
      "apical_dendrite[79] dict_keys(['pas'])\n",
      "apical_dendrite[80] dict_keys(['pas'])\n"
     ]
    }
   ],
   "source": [
    "for sec in h.allsec():\n",
    "    print(sec, sec.psection()['density_mechs'].keys())"
   ]
  },
  {
   "cell_type": "code",
   "execution_count": null,
   "id": "mediterranean-cornwall",
   "metadata": {},
   "outputs": [],
   "source": [
    "for mec in h.soma[0](0.5):\n",
    "    print(mec)"
   ]
  },
  {
   "cell_type": "code",
   "execution_count": null,
   "id": "southeast-spoke",
   "metadata": {},
   "outputs": [],
   "source": []
  },
  {
   "cell_type": "code",
   "execution_count": null,
   "id": "innovative-zealand",
   "metadata": {},
   "outputs": [],
   "source": [
    "h.soma[0].nseg = 3"
   ]
  },
  {
   "cell_type": "code",
   "execution_count": null,
   "id": "assigned-phoenix",
   "metadata": {},
   "outputs": [],
   "source": [
    "h.soma[0].psection()['density_mechs']"
   ]
  },
  {
   "cell_type": "code",
   "execution_count": null,
   "id": "precise-bones",
   "metadata": {},
   "outputs": [],
   "source": [
    "h.dendrite[9].v"
   ]
  },
  {
   "cell_type": "code",
   "execution_count": null,
   "id": "adjusted-significance",
   "metadata": {},
   "outputs": [],
   "source": [
    "len(h.dendrite)"
   ]
  },
  {
   "cell_type": "code",
   "execution_count": null,
   "id": "thermal-variety",
   "metadata": {},
   "outputs": [],
   "source": [
    "h.run()"
   ]
  },
  {
   "cell_type": "code",
   "execution_count": null,
   "id": "mexican-radical",
   "metadata": {},
   "outputs": [],
   "source": [
    "h.numaxon"
   ]
  },
  {
   "cell_type": "code",
   "execution_count": null,
   "id": "caroline-county",
   "metadata": {},
   "outputs": [],
   "source": [
    "help(h.Vector)"
   ]
  }
 ],
 "metadata": {
  "kernelspec": {
   "display_name": "Python 3",
   "language": "python",
   "name": "python3"
  },
  "language_info": {
   "codemirror_mode": {
    "name": "ipython",
    "version": 3
   },
   "file_extension": ".py",
   "mimetype": "text/x-python",
   "name": "python",
   "nbconvert_exporter": "python",
   "pygments_lexer": "ipython3",
   "version": "3.8.5"
  }
 },
 "nbformat": 4,
 "nbformat_minor": 5
}
